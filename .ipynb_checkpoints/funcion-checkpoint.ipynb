{
 "cells": [
  {
   "cell_type": "code",
   "execution_count": 1,
   "id": "medium-camcorder",
   "metadata": {},
   "outputs": [],
   "source": [
    "import pandas as pd\n",
    "import fitz\n",
    "import re"
   ]
  },
  {
   "cell_type": "code",
   "execution_count": 4,
   "id": "therapeutic-wireless",
   "metadata": {},
   "outputs": [
    {
     "data": {
      "text/plain": [
       "'Se han tomado                \\nmuestras para RT-PCR.\\n849.767\\nPASTAZA\\nMANABÍ\\nNAPO\\nLOJA\\nORELLANA\\nGUAYAS\\nSUCUMBÍOS\\nAZUAY\\nMORONA SANTIAGO\\nESMERALDAS\\nPICHINCHA\\nLOS \\nRÍOS\\nEL OR O\\nCOTOPAXI\\nCARCHI\\nCHIMBORAZO\\nBOLÍVAR\\nCAÑAR\\nIMBABURA\\nSANTA \\nELENA\\nSANTO DOMINGO\\nDE LOS TSÁCHILAS\\nGALÁPÁGOS\\n34,9%\\n7,0%\\n12,8%\\n1,3%\\n1,7%\\n1,19%\\n2,4%\\n6,4%\\n4,2%\\n3,0%\\n2,7%\\n1,7%\\n3,60%\\n1,38%\\n1,2%\\n2,2%\\n3,62%\\n2,8%\\n2,0%\\n1,0%\\n0,7%\\n0,9%\\n0,8%\\n0,5%\\nCURVA EPIDEMIOLÓGICA DE CASOS COVID-19 \\n% acumulado de casos confirmados\\npor provincia,\\nreferente al total nacional\\nMenor a 1,2%\\nDe 1,2% al 2,07%\\nDe 2,08% al 3,61%\\nMayor igual a 3,62%\\nSITUACIÓN NACIONAL POR  COVID-19 \\nINFOGRAFÍA N°334\\nInicio 29/02/2020- Corte 26/01/2021 08:00\\nLa desagregación de casos a nivel provincial, \\ncantonal y tendecias son  de pruebas PCR.\\nCasos confirmados por sexo\\n47,6%\\n52,4%\\nde 20 a\\n49 años\\nde 50 a\\n64 años\\nmas de\\n65\\nde 15 a\\n19 años\\nde 10 a\\n14 años\\nde 5 a 9\\naños\\nde 1 a 4\\naños\\nde 0 a\\n11\\nmeses\\n60,7%\\n20,3%\\n13,0%\\n3,1%\\n1,5%\\n0,8%\\n0,4%\\n0,2%\\nCasos confirmados por grupo etario\\nSITUACIÓN NACIONAL POR  COVID-19 \\nFuente: Ministerio de Salud Pública \\n@Salud_Ec\\nSaludEcuador\\nPágina 1/3\\nEste indicador, de actualización diaria, reporta el números acumulado \\nde las muestras tomadas para la realización de la prueba RT-PCR en \\nlos laboratorios autorizados en Ecuador. Cabe indicar que puede existir \\nmás de una muestra por persona durante el proceso diagnóstico.\\n498\\nHospitalizados\\npronóstico reservado\\n- Llamadas al 171 relacionadas a Covid-19: número de llamadas (acumuladas) atendidas por la plataforma 171 relacionadas a Covid-19. \\n- Teleconsulta: ciudadanos atendidos a través del APP SALUDEC y por un médico del 171.\\n- Atenciones en establecimientos de salud del MSP:  citas agendadas a través del 171 en establecimientos del primer nivel de atención.  \\n- Seguimiento telefónico: llamadas a pacientes con diagnóstico confirmado, seguidos vía telefónica en primer nivel, por un profesional del MSP. \\n- Seguimiento en domicilio: visitas domiciliarias a pacientes con diagnóstico confirmado, desde el primer nivel de atención, por un profesional del MSP. \\n*               pacientes recuperados respecto a confirmados PCR\\n84,57%\\n561.382\\n27.889\\n204.071\\n*Pacientes\\nrecuperados\\nCasos con alta\\nhospitalaria\\nTotal casos\\ndescartados\\n242.146\\nCasos confirmados con \\npruebas PCR\\n866\\nHospitalizados\\nestables\\nLos pacientes recuperados son aquellos que han sido ingresado al \\nsistema de vigilancia con al menos una prueba RT-PCR positivo, han \\npasado al menos 29 días desde la fecha de inicio de síntomas y están \\nvivos. Este indicador se mostrará acumulado semanalmente cada \\ndomingo.\\n*Fallecidos por Covid-19: corresponde a los fallecidos confirmados con \\nuna prueba RT-PCR positiva , fallecidos probables que son las personas \\ncon síntomas, otras pruebas de laboratorio o imagen relacionados a \\nCovid-19, sin una prueba RT-PCR.\\nA fin de facilitar la lectura del indicador \"casos fallecidos\" y proporcionar la \\ninformación desagregada por provincias se desglosa el número de fallecidos \\ncon Covid-19 confirmados por una prueba RT-PCR y los fallecidos \\nprobables con Covid-19. \\n'"
      ]
     },
     "execution_count": 4,
     "metadata": {},
     "output_type": "execute_result"
    }
   ],
   "source": [
    "# leer pdf\n",
    "doc = fitz.open('INFOGRAFIA-NACIONALCOVID19-COE-NACIONAL-08h00-26012021.pdf')\n",
    "page = doc.loadPage(0) \n",
    "text = page.getText('text')\n",
    "text"
   ]
  },
  {
   "cell_type": "code",
   "execution_count": 6,
   "id": "sixth-gateway",
   "metadata": {},
   "outputs": [],
   "source": [
    "a1 = 'La desagregación'\n",
    "b1 = 'INFOGRAFÍA'\n",
    "ca1 = text.index(a1) + len(a1)\n",
    "cb1 = text.index(b1)\n",
    "infoParcial = text[cb1:ca1].split('\\n')\n",
    "auxInfo =infoParcial[1].split('-')\n",
    "info = [infoParcial[0].split(' ')[1][2:],auxInfo[1][6:17].strip(),auxInfo[0][6:17].strip()]\n",
    "numInfo = info[0]\n",
    "fecha = info[1]"
   ]
  },
  {
   "cell_type": "code",
   "execution_count": 7,
   "id": "present-smell",
   "metadata": {},
   "outputs": [
    {
     "ename": "ValueError",
     "evalue": "substring not found",
     "output_type": "error",
     "traceback": [
      "\u001b[1;31m---------------------------------------------------------------------------\u001b[0m",
      "\u001b[1;31mValueError\u001b[0m                                Traceback (most recent call last)",
      "\u001b[1;32m<ipython-input-7-3a1a64381bca>\u001b[0m in \u001b[0;36m<module>\u001b[1;34m\u001b[0m\n\u001b[0;32m      5\u001b[0m \u001b[0mdatos_provincias\u001b[0m \u001b[1;33m=\u001b[0m \u001b[0mtext\u001b[0m\u001b[1;33m[\u001b[0m\u001b[0mc_A\u001b[0m\u001b[1;33m:\u001b[0m\u001b[0mc_B\u001b[0m\u001b[1;33m]\u001b[0m\u001b[1;33m\u001b[0m\u001b[1;33m\u001b[0m\u001b[0m\n\u001b[0;32m      6\u001b[0m \u001b[0mdatos_provincias\u001b[0m\u001b[1;33m=\u001b[0m \u001b[0mdatos_provincias\u001b[0m\u001b[1;33m[\u001b[0m\u001b[0mlen\u001b[0m\u001b[1;33m(\u001b[0m\u001b[0mcadena_A\u001b[0m\u001b[1;33m)\u001b[0m\u001b[1;33m:\u001b[0m\u001b[1;33m]\u001b[0m\u001b[1;33m\u001b[0m\u001b[1;33m\u001b[0m\u001b[0m\n\u001b[1;32m----> 7\u001b[1;33m \u001b[0mdatos_provincias\u001b[0m \u001b[1;33m=\u001b[0m \u001b[0mdatos_provincias\u001b[0m\u001b[1;33m[\u001b[0m\u001b[0mdatos_provincias\u001b[0m\u001b[1;33m.\u001b[0m\u001b[0mindex\u001b[0m\u001b[1;33m(\u001b[0m\u001b[1;34m'Azuay'\u001b[0m\u001b[1;33m)\u001b[0m\u001b[1;33m:\u001b[0m\u001b[1;33m]\u001b[0m\u001b[1;33m\u001b[0m\u001b[1;33m\u001b[0m\u001b[0m\n\u001b[0m",
      "\u001b[1;31mValueError\u001b[0m: substring not found"
     ]
    }
   ],
   "source": [
    "cadena_A = 'Casos confirmados por grupo etario'\n",
    "cadena_B = 'SITUACIÓN NACIONAL POR  COVID-19 ' \n",
    "c_A = text.index(cadena_A)\n",
    "c_B = text.rindex(cadena_B)\n",
    "datos_provincias = text[c_A:c_B]\n",
    "datos_provincias= datos_provincias[len(cadena_A):]\n",
    "datos_provincias = datos_provincias[datos_provincias.index('Azuay'):]"
   ]
  },
  {
   "cell_type": "code",
   "execution_count": null,
   "id": "white-consequence",
   "metadata": {},
   "outputs": [],
   "source": [
    "\n"
   ]
  }
 ],
 "metadata": {
  "kernelspec": {
   "display_name": "Python 3",
   "language": "python",
   "name": "python3"
  },
  "language_info": {
   "codemirror_mode": {
    "name": "ipython",
    "version": 3
   },
   "file_extension": ".py",
   "mimetype": "text/x-python",
   "name": "python",
   "nbconvert_exporter": "python",
   "pygments_lexer": "ipython3",
   "version": "3.9.2"
  }
 },
 "nbformat": 4,
 "nbformat_minor": 5
}
